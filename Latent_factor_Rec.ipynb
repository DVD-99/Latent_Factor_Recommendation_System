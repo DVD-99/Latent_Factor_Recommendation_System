{
 "cells": [
  {
   "cell_type": "markdown",
   "metadata": {},
   "source": [
    "# A simple Stochastic Gradient Descent algorithm to build a Latent Factor Recommendation system"
   ]
  },
  {
   "cell_type": "code",
   "execution_count": null,
   "metadata": {},
   "outputs": [],
   "source": [
    "import numpy as np\n",
    "import csv\n",
    "from numpy import linalg as LA\n",
    "import matplotlib.pyplot as plt"
   ]
  },
  {
   "cell_type": "markdown",
   "metadata": {},
   "source": [
    "### Main Cell which computes the P, Q Matrix and updates the weights."
   ]
  },
  {
   "cell_type": "code",
   "execution_count": 2,
   "metadata": {
    "collapsed": true
   },
   "outputs": [
    {
     "name": "stdout",
     "output_type": "stream",
     "text": [
      "Iteration:  0 Error:  181098.9574585985\n",
      "Iteration:  1 Error:  95013.71309177953\n",
      "Iteration:  2 Error:  89148.03035591358\n",
      "Iteration:  3 Error:  86263.63042173327\n",
      "Iteration:  4 Error:  84097.3352232422\n",
      "Iteration:  5 Error:  82090.2314989645\n",
      "Iteration:  6 Error:  80037.17784037848\n",
      "Iteration:  7 Error:  77883.94933118469\n",
      "Iteration:  8 Error:  75665.67775705838\n",
      "Iteration:  9 Error:  73454.45216274819\n",
      "Iteration:  10 Error:  71314.67760346645\n",
      "Iteration:  11 Error:  69285.64383492054\n",
      "Iteration:  12 Error:  67385.53566781722\n",
      "Iteration:  13 Error:  65620.12299867913\n",
      "Iteration:  14 Error:  63988.45855899869\n",
      "Iteration:  15 Error:  62485.70983063765\n",
      "Iteration:  16 Error:  61104.6925892061\n",
      "Iteration:  17 Error:  59836.91266286963\n",
      "Iteration:  18 Error:  58673.335758614594\n",
      "Iteration:  19 Error:  57604.92840206716\n",
      "Iteration:  20 Error:  56623.00382793029\n",
      "Iteration:  21 Error:  55719.41990726049\n",
      "Iteration:  22 Error:  54886.675611426406\n",
      "Iteration:  23 Error:  54117.94231165007\n",
      "Iteration:  24 Error:  53407.05489249827\n",
      "Iteration:  25 Error:  52748.479013639946\n",
      "Iteration:  26 Error:  52137.26516630063\n",
      "Iteration:  27 Error:  51568.99655791053\n",
      "Iteration:  28 Error:  51039.73548198272\n",
      "Iteration:  29 Error:  50545.97117772847\n",
      "Iteration:  30 Error:  50084.570995292204\n",
      "Iteration:  31 Error:  49652.735829464145\n",
      "Iteration:  32 Error:  49247.96019140502\n",
      "Iteration:  33 Error:  48867.99689742696\n",
      "Iteration:  34 Error:  48510.82611667457\n",
      "Iteration:  35 Error:  48174.62839297065\n",
      "Iteration:  36 Error:  47857.76120485253\n",
      "Iteration:  37 Error:  47558.7386246511\n",
      "Iteration:  38 Error:  47276.21366237793\n",
      "Iteration:  39 Error:  47008.96291938693\n"
     ]
    }
   ],
   "source": [
    "Q = np.array([])\n",
    "P = np.array([])\n",
    "learn_rate = 0.01\n",
    "iterations = 40\n",
    "r_fact = 0.1\n",
    "k = 20\n",
    "error_list = []\n",
    "#used numpy array to store the P and Q matrix\n",
    "for i in range(iterations):\n",
    "    with open(\"ratings.csv\") as file:\n",
    "        readCSV = csv.reader(file, delimiter = ',')\n",
    "        for row in readCSV:\n",
    "#adds the data if the size is zero or else it adds the data that is yet to added\n",
    "#the data is of random values between 0, square root of 5/k\n",
    "#size of Q is m X k\n",
    "#size of P is k X n\n",
    "            if (Q.size == 0):\n",
    "                Q = np.random.uniform(low = 0.0, high = np.sqrt(5/k),size = (int(row[0])+1,k))\n",
    "            elif (len(Q) <= int(row[0])):\n",
    "                w = int(row[0]) - len(Q)\n",
    "                z = np.random.uniform(low = 0.0, high = np.sqrt(5/k),size = (w+1,k))\n",
    "                Q = np.append(Q,z,axis = 0)\n",
    "\n",
    "            if (P.size == 0):\n",
    "                P = np.random.uniform(low = 0.0, high = np.sqrt(5/k),size = (int(row[1])+1,k))\n",
    "            elif (len(P) <= int(row[1])):\n",
    "                w = int(row[1]) - len(P)\n",
    "                z = np.random.uniform(low = 0.0, high = np.sqrt(5/k),size = (w+1,k))\n",
    "                P = np.append(P,z,axis = 0)\n",
    "                \n",
    "# updating equations for the stochastic gradient descent\n",
    "            err = 2*(int(row[2]) - np.dot(Q[int(row[0])], np.transpose(P[int(row[1])])))\n",
    "            Q[int(row[0])] = Q[int(row[0])] + learn_rate*(err*P[int(row[1])] - 2*r_fact*Q[int(row[0])])\n",
    "            P[int(row[1])] = P[int(row[1])] + learn_rate*(err*Q[int(row[0])] - 2*r_fact*P[int(row[1])])\n",
    "            \n",
    "#calculating the total error\n",
    "    E = 0\n",
    "    q = np.sum(np.square(LA.norm(Q, 2, axis = 1)))\n",
    "    p = np.sum(np.square(LA.norm(P, 2, axis = 1)))\n",
    "    reg_fact = r_fact*(p+q)\n",
    "    with open(\"ratings.csv\") as file:\n",
    "        readCSV = csv.reader(file, delimiter = ',')\n",
    "        for row in readCSV:\n",
    "            E += (int(row[2]) - np.dot(Q[int(row[0])], np.transpose(P[int(row[1])])))**2\n",
    "    total_error = E + reg_fact\n",
    "    print(\"Iteration: \",i, \"Error: \",total_error)\n",
    "    error_list.append(total_error)"
   ]
  },
  {
   "cell_type": "markdown",
   "metadata": {},
   "source": [
    "### Plotting the error graph"
   ]
  },
  {
   "cell_type": "code",
   "execution_count": 3,
   "metadata": {},
   "outputs": [
    {
     "data": {
      "image/png": "[encoded data removed]",
      "text/plain": [
       "<Figure size 432x288 with 1 Axes>"
      ]
     },
     "metadata": {
      "needs_background": "light"
     },
     "output_type": "display_data"
    }
   ],
   "source": [
    "x = [i for i in range(1,41)]\n",
    "plt.plot(x,error_list)\n",
    "plt.xticks(np.arange(0, 40, 1))\n",
    "plt.xlabel('Iteration')\n",
    "plt.ylabel('Error')\n",
    "plt.title('Error vs Iteration for learning rate 0.01')\n",
    "plt.rcParams['figure.figsize'] = [12,6]\n",
    "plt.show()"
   ]
  },
  {
   "cell_type": "markdown",
   "metadata": {},
   "source": [
    "### Computing the R Matrix (Recommendation Matrix)"
   ]
  },
  {
   "cell_type": "code",
   "execution_count": 4,
   "metadata": {},
   "outputs": [],
   "source": [
    "R = np.dot(Q, np.transpose(P))"
   ]
  },
  {
   "cell_type": "markdown",
   "metadata": {},
   "source": [
    "### In ratings.csv 0 user has never rated for movie 1, but we recommend the movie 1 to user 0 because we have predicted that he is more likely to rate that movie a 4 stars."
   ]
  },
  {
   "cell_type": "code",
   "execution_count": 11,
   "metadata": {},
   "outputs": [
    {
     "data": {
      "text/plain": [
       "4.093347509164396"
      ]
     },
     "execution_count": 11,
     "metadata": {},
     "output_type": "execute_result"
    }
   ],
   "source": [
    "R[1][0]"
   ]
  }
 ],
 "metadata": {
  "kernelspec": {
   "display_name": "Python 3",
   "language": "python",
   "name": "python3"
  },
  "language_info": {
   "codemirror_mode": {
    "name": "ipython",
    "version": 3
   },
   "file_extension": ".py",
   "mimetype": "text/x-python",
   "name": "python",
   "nbconvert_exporter": "python",
   "pygments_lexer": "ipython3",
   "version": "3.7.4"
  }
 },
 "nbformat": 4,
 "nbformat_minor": 2
}
